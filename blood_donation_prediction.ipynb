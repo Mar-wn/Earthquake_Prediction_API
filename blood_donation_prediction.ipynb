{
 "cells": [
  {
   "cell_type": "markdown",
   "id": "b9337842",
   "metadata": {},
   "source": [
    "* predict whether a person -in a certain setup- will donate blood or not\n",
    "* we hava data of persons/situations and the outcome: donation or not\n",
    "* facing blood need, we can therefore assess how likely our database donors will give blood NOW and target the most likely to\n",
    "* so we are predicting people's behaviours in a blood donation situation, based on past behaviours\n",
    "* data taken from the Blood Transfusion Service Center in Hsin-Chu City in Taiwan"
   ]
  },
  {
   "cell_type": "code",
   "execution_count": 2,
   "id": "adb0cf57",
   "metadata": {},
   "outputs": [],
   "source": [
    "import pandas as pd"
   ]
  },
  {
   "cell_type": "code",
   "execution_count": 3,
   "id": "4993fbd8",
   "metadata": {},
   "outputs": [],
   "source": [
    "data = pd.read_csv('transfusion.data')"
   ]
  },
  {
   "cell_type": "code",
   "execution_count": 124,
   "id": "d9f8def5",
   "metadata": {
    "scrolled": false
   },
   "outputs": [
    {
     "data": {
      "text/html": [
       "<div>\n",
       "<style scoped>\n",
       "    .dataframe tbody tr th:only-of-type {\n",
       "        vertical-align: middle;\n",
       "    }\n",
       "\n",
       "    .dataframe tbody tr th {\n",
       "        vertical-align: top;\n",
       "    }\n",
       "\n",
       "    .dataframe thead th {\n",
       "        text-align: right;\n",
       "    }\n",
       "</style>\n",
       "<table border=\"1\" class=\"dataframe\">\n",
       "  <thead>\n",
       "    <tr style=\"text-align: right;\">\n",
       "      <th></th>\n",
       "      <th>Recency (months)</th>\n",
       "      <th>Frequency (times)</th>\n",
       "      <th>Monetary (c.c. blood)</th>\n",
       "      <th>Time (months)</th>\n",
       "      <th>whether he/she donated blood in March 2007</th>\n",
       "    </tr>\n",
       "  </thead>\n",
       "  <tbody>\n",
       "    <tr>\n",
       "      <th>0</th>\n",
       "      <td>2</td>\n",
       "      <td>50</td>\n",
       "      <td>12500</td>\n",
       "      <td>98</td>\n",
       "      <td>1</td>\n",
       "    </tr>\n",
       "    <tr>\n",
       "      <th>1</th>\n",
       "      <td>0</td>\n",
       "      <td>13</td>\n",
       "      <td>3250</td>\n",
       "      <td>28</td>\n",
       "      <td>1</td>\n",
       "    </tr>\n",
       "    <tr>\n",
       "      <th>2</th>\n",
       "      <td>1</td>\n",
       "      <td>16</td>\n",
       "      <td>4000</td>\n",
       "      <td>35</td>\n",
       "      <td>1</td>\n",
       "    </tr>\n",
       "    <tr>\n",
       "      <th>3</th>\n",
       "      <td>2</td>\n",
       "      <td>20</td>\n",
       "      <td>5000</td>\n",
       "      <td>45</td>\n",
       "      <td>1</td>\n",
       "    </tr>\n",
       "    <tr>\n",
       "      <th>4</th>\n",
       "      <td>1</td>\n",
       "      <td>24</td>\n",
       "      <td>6000</td>\n",
       "      <td>77</td>\n",
       "      <td>0</td>\n",
       "    </tr>\n",
       "  </tbody>\n",
       "</table>\n",
       "</div>"
      ],
      "text/plain": [
       "   Recency (months)  Frequency (times)  Monetary (c.c. blood)  Time (months)  \\\n",
       "0                 2                 50                  12500             98   \n",
       "1                 0                 13                   3250             28   \n",
       "2                 1                 16                   4000             35   \n",
       "3                 2                 20                   5000             45   \n",
       "4                 1                 24                   6000             77   \n",
       "\n",
       "   whether he/she donated blood in March 2007  \n",
       "0                                           1  \n",
       "1                                           1  \n",
       "2                                           1  \n",
       "3                                           1  \n",
       "4                                           0  "
      ]
     },
     "execution_count": 124,
     "metadata": {},
     "output_type": "execute_result"
    }
   ],
   "source": [
    "data.head()"
   ]
  },
  {
   "cell_type": "code",
   "execution_count": 3,
   "id": "412c0cda",
   "metadata": {},
   "outputs": [
    {
     "data": {
      "text/plain": [
       "(748, 5)"
      ]
     },
     "execution_count": 3,
     "metadata": {},
     "output_type": "execute_result"
    }
   ],
   "source": [
    "data.shape"
   ]
  },
  {
   "cell_type": "code",
   "execution_count": 4,
   "id": "4d17558b",
   "metadata": {},
   "outputs": [],
   "source": [
    "data['whether he/she donated blood in March 2007'] = data['whether he/she donated blood in March 2007'].astype(str)"
   ]
  },
  {
   "cell_type": "code",
   "execution_count": 53,
   "id": "9a60345e",
   "metadata": {},
   "outputs": [
    {
     "data": {
      "text/plain": [
       "0    570\n",
       "1    178\n",
       "Name: whether he/she donated blood in March 2007, dtype: int64"
      ]
     },
     "execution_count": 53,
     "metadata": {},
     "output_type": "execute_result"
    }
   ],
   "source": [
    "data['whether he/she donated blood in March 2007'].value_counts()"
   ]
  },
  {
   "cell_type": "markdown",
   "id": "784bf65b",
   "metadata": {},
   "source": [
    "* there is a 1:3 balance between our two classes"
   ]
  },
  {
   "cell_type": "code",
   "execution_count": 46,
   "id": "49708c4d",
   "metadata": {
    "scrolled": false
   },
   "outputs": [
    {
     "data": {
      "text/html": [
       "<div>\n",
       "<style scoped>\n",
       "    .dataframe tbody tr th:only-of-type {\n",
       "        vertical-align: middle;\n",
       "    }\n",
       "\n",
       "    .dataframe tbody tr th {\n",
       "        vertical-align: top;\n",
       "    }\n",
       "\n",
       "    .dataframe thead th {\n",
       "        text-align: right;\n",
       "    }\n",
       "</style>\n",
       "<table border=\"1\" class=\"dataframe\">\n",
       "  <thead>\n",
       "    <tr style=\"text-align: right;\">\n",
       "      <th></th>\n",
       "      <th>Recency (months)</th>\n",
       "      <th>Frequency (times)</th>\n",
       "      <th>Monetary (c.c. blood)</th>\n",
       "      <th>Time (months)</th>\n",
       "    </tr>\n",
       "  </thead>\n",
       "  <tbody>\n",
       "    <tr>\n",
       "      <th>count</th>\n",
       "      <td>748.000000</td>\n",
       "      <td>748.000000</td>\n",
       "      <td>748.000000</td>\n",
       "      <td>748.000000</td>\n",
       "    </tr>\n",
       "    <tr>\n",
       "      <th>mean</th>\n",
       "      <td>9.506684</td>\n",
       "      <td>5.514706</td>\n",
       "      <td>1378.676471</td>\n",
       "      <td>34.282086</td>\n",
       "    </tr>\n",
       "    <tr>\n",
       "      <th>std</th>\n",
       "      <td>8.095396</td>\n",
       "      <td>5.839307</td>\n",
       "      <td>1459.826781</td>\n",
       "      <td>24.376714</td>\n",
       "    </tr>\n",
       "    <tr>\n",
       "      <th>min</th>\n",
       "      <td>0.000000</td>\n",
       "      <td>1.000000</td>\n",
       "      <td>250.000000</td>\n",
       "      <td>2.000000</td>\n",
       "    </tr>\n",
       "    <tr>\n",
       "      <th>25%</th>\n",
       "      <td>2.750000</td>\n",
       "      <td>2.000000</td>\n",
       "      <td>500.000000</td>\n",
       "      <td>16.000000</td>\n",
       "    </tr>\n",
       "    <tr>\n",
       "      <th>50%</th>\n",
       "      <td>7.000000</td>\n",
       "      <td>4.000000</td>\n",
       "      <td>1000.000000</td>\n",
       "      <td>28.000000</td>\n",
       "    </tr>\n",
       "    <tr>\n",
       "      <th>75%</th>\n",
       "      <td>14.000000</td>\n",
       "      <td>7.000000</td>\n",
       "      <td>1750.000000</td>\n",
       "      <td>50.000000</td>\n",
       "    </tr>\n",
       "    <tr>\n",
       "      <th>max</th>\n",
       "      <td>74.000000</td>\n",
       "      <td>50.000000</td>\n",
       "      <td>12500.000000</td>\n",
       "      <td>98.000000</td>\n",
       "    </tr>\n",
       "  </tbody>\n",
       "</table>\n",
       "</div>"
      ],
      "text/plain": [
       "       Recency (months)  Frequency (times)  Monetary (c.c. blood)  \\\n",
       "count        748.000000         748.000000             748.000000   \n",
       "mean           9.506684           5.514706            1378.676471   \n",
       "std            8.095396           5.839307            1459.826781   \n",
       "min            0.000000           1.000000             250.000000   \n",
       "25%            2.750000           2.000000             500.000000   \n",
       "50%            7.000000           4.000000            1000.000000   \n",
       "75%           14.000000           7.000000            1750.000000   \n",
       "max           74.000000          50.000000           12500.000000   \n",
       "\n",
       "       Time (months)  \n",
       "count     748.000000  \n",
       "mean       34.282086  \n",
       "std        24.376714  \n",
       "min         2.000000  \n",
       "25%        16.000000  \n",
       "50%        28.000000  \n",
       "75%        50.000000  \n",
       "max        98.000000  "
      ]
     },
     "execution_count": 46,
     "metadata": {},
     "output_type": "execute_result"
    }
   ],
   "source": [
    "data.describe()"
   ]
  },
  {
   "cell_type": "markdown",
   "id": "237949bf",
   "metadata": {},
   "source": [
    "* no missing values\n",
    "* Time (months): months passed since first donation \n",
    "* Recency (months): months passed since last donation\n",
    "* Frequency (times): number of donations\n",
    "* Monetary (c.c. blood): total number of cubic centimeters of blood donated, maybe convert?\n"
   ]
  },
  {
   "cell_type": "code",
   "execution_count": 79,
   "id": "f1cd5fb0",
   "metadata": {},
   "outputs": [
    {
     "data": {
      "text/plain": [
       "Index(['Recency (months)', 'Frequency (times)', 'Monetary (c.c. blood)',\n",
       "       'Time (months)', 'whether he/she donated blood in March 2007'],\n",
       "      dtype='object')"
      ]
     },
     "execution_count": 79,
     "metadata": {},
     "output_type": "execute_result"
    }
   ],
   "source": [
    "data.columns"
   ]
  },
  {
   "cell_type": "code",
   "execution_count": 5,
   "id": "55960b24",
   "metadata": {},
   "outputs": [
    {
     "data": {
      "text/html": [
       "<div>\n",
       "<style scoped>\n",
       "    .dataframe tbody tr th:only-of-type {\n",
       "        vertical-align: middle;\n",
       "    }\n",
       "\n",
       "    .dataframe tbody tr th {\n",
       "        vertical-align: top;\n",
       "    }\n",
       "\n",
       "    .dataframe thead th {\n",
       "        text-align: right;\n",
       "    }\n",
       "</style>\n",
       "<table border=\"1\" class=\"dataframe\">\n",
       "  <thead>\n",
       "    <tr style=\"text-align: right;\">\n",
       "      <th></th>\n",
       "      <th>months_since_first</th>\n",
       "      <th>months_since_last</th>\n",
       "      <th>number_of_donations</th>\n",
       "      <th>total_blood_donated</th>\n",
       "      <th>donated</th>\n",
       "    </tr>\n",
       "  </thead>\n",
       "  <tbody>\n",
       "    <tr>\n",
       "      <th>0</th>\n",
       "      <td>98</td>\n",
       "      <td>2</td>\n",
       "      <td>50</td>\n",
       "      <td>12500</td>\n",
       "      <td>1</td>\n",
       "    </tr>\n",
       "    <tr>\n",
       "      <th>1</th>\n",
       "      <td>28</td>\n",
       "      <td>0</td>\n",
       "      <td>13</td>\n",
       "      <td>3250</td>\n",
       "      <td>1</td>\n",
       "    </tr>\n",
       "    <tr>\n",
       "      <th>2</th>\n",
       "      <td>35</td>\n",
       "      <td>1</td>\n",
       "      <td>16</td>\n",
       "      <td>4000</td>\n",
       "      <td>1</td>\n",
       "    </tr>\n",
       "    <tr>\n",
       "      <th>3</th>\n",
       "      <td>45</td>\n",
       "      <td>2</td>\n",
       "      <td>20</td>\n",
       "      <td>5000</td>\n",
       "      <td>1</td>\n",
       "    </tr>\n",
       "    <tr>\n",
       "      <th>4</th>\n",
       "      <td>77</td>\n",
       "      <td>1</td>\n",
       "      <td>24</td>\n",
       "      <td>6000</td>\n",
       "      <td>0</td>\n",
       "    </tr>\n",
       "  </tbody>\n",
       "</table>\n",
       "</div>"
      ],
      "text/plain": [
       "   months_since_first  months_since_last  number_of_donations  \\\n",
       "0                  98                  2                   50   \n",
       "1                  28                  0                   13   \n",
       "2                  35                  1                   16   \n",
       "3                  45                  2                   20   \n",
       "4                  77                  1                   24   \n",
       "\n",
       "   total_blood_donated donated  \n",
       "0                12500       1  \n",
       "1                 3250       1  \n",
       "2                 4000       1  \n",
       "3                 5000       1  \n",
       "4                 6000       0  "
      ]
     },
     "execution_count": 5,
     "metadata": {},
     "output_type": "execute_result"
    }
   ],
   "source": [
    "data.rename(columns= {'Time (months)': 'months_since_first',\n",
    "                      'Recency (months)': 'months_since_last', \n",
    "                      'Frequency (times)': 'number_of_donations',\n",
    "                      'Monetary (c.c. blood)': 'total_blood_donated',\n",
    "                      'whether he/she donated blood in March 2007': 'donated'\n",
    "                     }, inplace= True)\n",
    "\n",
    "data = data[['months_since_first', 'months_since_last', 'number_of_donations',\n",
    "             'total_blood_donated', 'donated']]\n",
    "data.head()"
   ]
  },
  {
   "cell_type": "markdown",
   "id": "9f57cc16",
   "metadata": {},
   "source": [
    "# Data viz"
   ]
  },
  {
   "cell_type": "code",
   "execution_count": 12,
   "id": "e39dd743",
   "metadata": {},
   "outputs": [
    {
     "name": "stderr",
     "output_type": "stream",
     "text": [
      "Matplotlib is building the font cache; this may take a moment.\n"
     ]
    }
   ],
   "source": [
    "%matplotlib inline \n",
    "\n",
    "import matplotlib as mpl\n",
    "\n",
    "import matplotlib.pyplot as plt"
   ]
  },
  {
   "cell_type": "code",
   "execution_count": 16,
   "id": "2b2a08be",
   "metadata": {},
   "outputs": [],
   "source": [
    "mpl.style.use('ggplot')"
   ]
  },
  {
   "cell_type": "code",
   "execution_count": 55,
   "id": "9e6ece75",
   "metadata": {
    "scrolled": true
   },
   "outputs": [
    {
     "data": {
      "image/png": "[encoded data removed]",
      "text/plain": [
       "<Figure size 1500x1500 with 4 Axes>"
      ]
     },
     "metadata": {},
     "output_type": "display_data"
    }
   ],
   "source": [
    "plt.figure(figsize= (15,15))\n",
    "\n",
    "boxprops = dict(linestyle= '-', linewidth= 4, color= 'deeppink')\n",
    "\n",
    "whiskerprops = dict(linestyle= '-', linewidth= 4, color= 'deeppink')\n",
    "\n",
    "for i in range(1, len(data.columns)):\n",
    "    \n",
    "    ax = plt.subplot(2, 2, i)\n",
    "    \n",
    "    data.boxplot(column= data.columns[i-1],\n",
    "                 fontsize= 15,\n",
    "                 boxprops= boxprops,\n",
    "                 whiskerprops= whiskerprops,\n",
    "                 ax=ax\n",
    "                )\n",
    "    \n",
    "plt.show()"
   ]
  },
  {
   "cell_type": "code",
   "execution_count": 56,
   "id": "c062eb67",
   "metadata": {
    "scrolled": true
   },
   "outputs": [
    {
     "data": {
      "image/png": "[encoded data removed]",
      "text/plain": [
       "<Figure size 1500x1500 with 4 Axes>"
      ]
     },
     "metadata": {},
     "output_type": "display_data"
    }
   ],
   "source": [
    "# features by target\n",
    "\n",
    "plt.figure(figsize= (15,15))\n",
    "\n",
    "boxprops = dict(linestyle= '-', linewidth= 4, color= 'deeppink')\n",
    "\n",
    "whiskerprops = dict(linestyle= '-', linewidth= 4, color= 'deeppink')\n",
    "\n",
    "for i in range(1, len(data.columns)):\n",
    "    \n",
    "    ax = plt.subplot(2, 2, i)\n",
    "    \n",
    "    data.boxplot(column= data.columns[i-1],\n",
    "                 by= 'donated',\n",
    "                 fontsize= 15,\n",
    "                 boxprops= boxprops,\n",
    "                 whiskerprops= whiskerprops,\n",
    "                 ax=ax\n",
    "                )\n",
    "    \n",
    "plt.show()"
   ]
  },
  {
   "cell_type": "markdown",
   "id": "5cb49cea",
   "metadata": {},
   "source": [
    "* **months passed since first donation** seems to have the same distribution at both classes\n",
    "* donors seem to be linked with smaller values of **months passed since last donation** compared to non donors: can we say that ppl are more likely to donate blood after fewer time since last donation?\n",
    "* **number of donations and blood donated** have more important values within the donated class\n",
    "\n",
    "==> **donor profile**: has significant amount of past donations and it has not been a while since he last donated?"
   ]
  },
  {
   "cell_type": "markdown",
   "id": "8534a78b",
   "metadata": {},
   "source": [
    "# Data preprocessing"
   ]
  },
  {
   "cell_type": "code",
   "execution_count": 6,
   "id": "ec418441",
   "metadata": {},
   "outputs": [],
   "source": [
    "from sklearn import preprocessing"
   ]
  },
  {
   "cell_type": "code",
   "execution_count": 7,
   "id": "a1524109",
   "metadata": {
    "scrolled": true
   },
   "outputs": [
    {
     "name": "stdout",
     "output_type": "stream",
     "text": [
      "months_since_first \n",
      "\n",
      "82.64999999999998\n",
      "4.0\n",
      "(75, 5) \n",
      "\n",
      "months_since_last \n",
      "\n",
      "23.0\n",
      "2.0\n",
      "(23, 5) \n",
      "\n",
      "number_of_donations \n",
      "\n",
      "16.0\n",
      "1.0\n",
      "(26, 5) \n",
      "\n",
      "total_blood_donated \n",
      "\n",
      "4000.0\n",
      "250.0\n",
      "(26, 5) \n",
      "\n"
     ]
    },
    {
     "data": {
      "text/plain": [
       "112"
      ]
     },
     "execution_count": 7,
     "metadata": {},
     "output_type": "execute_result"
    }
   ],
   "source": [
    "# outliers handling\n",
    "\n",
    "# define outliers based on percentiles\n",
    "\n",
    "def save_col_outliers(col):\n",
    "    \n",
    "    upper_lim = data[col].quantile(.95)\n",
    "    lower_lim = data[col].quantile(.05)\n",
    "    \n",
    "    print(col, '\\n')\n",
    "    print(upper_lim)\n",
    "    print(lower_lim)\n",
    "    print(data[(data[col] < lower_lim) | (data[col] > upper_lim)].shape, '\\n')\n",
    "    \n",
    "    return data[(data[col] < lower_lim) | (data[col] > upper_lim)].index.values.tolist()\n",
    "\n",
    "\n",
    "outliers_indexes = []\n",
    "\n",
    "for col in data.columns[:-1]:\n",
    "    \n",
    "    outliers_indexes.extend(save_col_outliers(col))\n",
    "\n",
    "outliers_indexes = set(outliers_indexes)\n",
    "\n",
    "len(outliers_indexes)"
   ]
  },
  {
   "cell_type": "code",
   "execution_count": 8,
   "id": "a266faa0",
   "metadata": {},
   "outputs": [
    {
     "data": {
      "text/plain": [
       "(636, 5)"
      ]
     },
     "execution_count": 8,
     "metadata": {},
     "output_type": "execute_result"
    }
   ],
   "source": [
    "# drop outliers rows\n",
    "\n",
    "new_data = data[~data.index.isin(outliers_indexes)]\n",
    "\n",
    "new_data.shape"
   ]
  },
  {
   "cell_type": "code",
   "execution_count": 9,
   "id": "61b7a9a7",
   "metadata": {},
   "outputs": [
    {
     "name": "stderr",
     "output_type": "stream",
     "text": [
      "/tmp/ipykernel_13566/429274637.py:5: SettingWithCopyWarning: \n",
      "A value is trying to be set on a copy of a slice from a DataFrame.\n",
      "Try using .loc[row_indexer,col_indexer] = value instead\n",
      "\n",
      "See the caveats in the documentation: https://pandas.pydata.org/pandas-docs/stable/user_guide/indexing.html#returning-a-view-versus-a-copy\n",
      "  new_data['total_blood_donated'] /= 1000\n"
     ]
    },
    {
     "data": {
      "text/html": [
       "<div>\n",
       "<style scoped>\n",
       "    .dataframe tbody tr th:only-of-type {\n",
       "        vertical-align: middle;\n",
       "    }\n",
       "\n",
       "    .dataframe tbody tr th {\n",
       "        vertical-align: top;\n",
       "    }\n",
       "\n",
       "    .dataframe thead th {\n",
       "        text-align: right;\n",
       "    }\n",
       "</style>\n",
       "<table border=\"1\" class=\"dataframe\">\n",
       "  <thead>\n",
       "    <tr style=\"text-align: right;\">\n",
       "      <th></th>\n",
       "      <th>total_blood_donated</th>\n",
       "    </tr>\n",
       "  </thead>\n",
       "  <tbody>\n",
       "    <tr>\n",
       "      <th>count</th>\n",
       "      <td>636.000000</td>\n",
       "    </tr>\n",
       "    <tr>\n",
       "      <th>mean</th>\n",
       "      <td>1.164701</td>\n",
       "    </tr>\n",
       "    <tr>\n",
       "      <th>std</th>\n",
       "      <td>0.885411</td>\n",
       "    </tr>\n",
       "    <tr>\n",
       "      <th>min</th>\n",
       "      <td>0.250000</td>\n",
       "    </tr>\n",
       "    <tr>\n",
       "      <th>25%</th>\n",
       "      <td>0.500000</td>\n",
       "    </tr>\n",
       "    <tr>\n",
       "      <th>50%</th>\n",
       "      <td>1.000000</td>\n",
       "    </tr>\n",
       "    <tr>\n",
       "      <th>75%</th>\n",
       "      <td>1.500000</td>\n",
       "    </tr>\n",
       "    <tr>\n",
       "      <th>max</th>\n",
       "      <td>4.000000</td>\n",
       "    </tr>\n",
       "  </tbody>\n",
       "</table>\n",
       "</div>"
      ],
      "text/plain": [
       "       total_blood_donated\n",
       "count           636.000000\n",
       "mean              1.164701\n",
       "std               0.885411\n",
       "min               0.250000\n",
       "25%               0.500000\n",
       "50%               1.000000\n",
       "75%               1.500000\n",
       "max               4.000000"
      ]
     },
     "execution_count": 9,
     "metadata": {},
     "output_type": "execute_result"
    }
   ],
   "source": [
    "# *** this is a transform cell ***\n",
    "\n",
    "# convert blood donated to liters as a scaling way\n",
    "\n",
    "new_data['total_blood_donated'] /= 1000\n",
    "\n",
    "new_data[['total_blood_donated']].describe()"
   ]
  },
  {
   "cell_type": "code",
   "execution_count": 10,
   "id": "066a6daa",
   "metadata": {},
   "outputs": [
    {
     "name": "stderr",
     "output_type": "stream",
     "text": [
      "/tmp/ipykernel_13566/427010661.py:11: SettingWithCopyWarning: \n",
      "A value is trying to be set on a copy of a slice from a DataFrame.\n",
      "Try using .loc[row_indexer,col_indexer] = value instead\n",
      "\n",
      "See the caveats in the documentation: https://pandas.pydata.org/pandas-docs/stable/user_guide/indexing.html#returning-a-view-versus-a-copy\n",
      "  new_data[new_data.columns[:-2]] = min_max_scaler.transform(new_data[new_data.columns[:-2]])\n"
     ]
    },
    {
     "data": {
      "text/html": [
       "<div>\n",
       "<style scoped>\n",
       "    .dataframe tbody tr th:only-of-type {\n",
       "        vertical-align: middle;\n",
       "    }\n",
       "\n",
       "    .dataframe tbody tr th {\n",
       "        vertical-align: top;\n",
       "    }\n",
       "\n",
       "    .dataframe thead th {\n",
       "        text-align: right;\n",
       "    }\n",
       "</style>\n",
       "<table border=\"1\" class=\"dataframe\">\n",
       "  <thead>\n",
       "    <tr style=\"text-align: right;\">\n",
       "      <th></th>\n",
       "      <th>months_since_first</th>\n",
       "      <th>months_since_last</th>\n",
       "      <th>number_of_donations</th>\n",
       "      <th>total_blood_donated</th>\n",
       "    </tr>\n",
       "  </thead>\n",
       "  <tbody>\n",
       "    <tr>\n",
       "      <th>count</th>\n",
       "      <td>636.000000</td>\n",
       "      <td>636.000000</td>\n",
       "      <td>636.000000</td>\n",
       "      <td>636.000000</td>\n",
       "    </tr>\n",
       "    <tr>\n",
       "      <th>mean</th>\n",
       "      <td>0.354499</td>\n",
       "      <td>0.363357</td>\n",
       "      <td>0.243920</td>\n",
       "      <td>1.164701</td>\n",
       "    </tr>\n",
       "    <tr>\n",
       "      <th>std</th>\n",
       "      <td>0.254520</td>\n",
       "      <td>0.327918</td>\n",
       "      <td>0.236110</td>\n",
       "      <td>0.885411</td>\n",
       "    </tr>\n",
       "    <tr>\n",
       "      <th>min</th>\n",
       "      <td>0.000000</td>\n",
       "      <td>0.000000</td>\n",
       "      <td>0.000000</td>\n",
       "      <td>0.250000</td>\n",
       "    </tr>\n",
       "    <tr>\n",
       "      <th>25%</th>\n",
       "      <td>0.153846</td>\n",
       "      <td>0.095238</td>\n",
       "      <td>0.066667</td>\n",
       "      <td>0.500000</td>\n",
       "    </tr>\n",
       "    <tr>\n",
       "      <th>50%</th>\n",
       "      <td>0.301282</td>\n",
       "      <td>0.333333</td>\n",
       "      <td>0.200000</td>\n",
       "      <td>1.000000</td>\n",
       "    </tr>\n",
       "    <tr>\n",
       "      <th>75%</th>\n",
       "      <td>0.525641</td>\n",
       "      <td>0.571429</td>\n",
       "      <td>0.333333</td>\n",
       "      <td>1.500000</td>\n",
       "    </tr>\n",
       "    <tr>\n",
       "      <th>max</th>\n",
       "      <td>1.000000</td>\n",
       "      <td>1.000000</td>\n",
       "      <td>1.000000</td>\n",
       "      <td>4.000000</td>\n",
       "    </tr>\n",
       "  </tbody>\n",
       "</table>\n",
       "</div>"
      ],
      "text/plain": [
       "       months_since_first  months_since_last  number_of_donations  \\\n",
       "count          636.000000         636.000000           636.000000   \n",
       "mean             0.354499           0.363357             0.243920   \n",
       "std              0.254520           0.327918             0.236110   \n",
       "min              0.000000           0.000000             0.000000   \n",
       "25%              0.153846           0.095238             0.066667   \n",
       "50%              0.301282           0.333333             0.200000   \n",
       "75%              0.525641           0.571429             0.333333   \n",
       "max              1.000000           1.000000             1.000000   \n",
       "\n",
       "       total_blood_donated  \n",
       "count           636.000000  \n",
       "mean              1.164701  \n",
       "std               0.885411  \n",
       "min               0.250000  \n",
       "25%               0.500000  \n",
       "50%               1.000000  \n",
       "75%               1.500000  \n",
       "max               4.000000  "
      ]
     },
     "execution_count": 10,
     "metadata": {},
     "output_type": "execute_result"
    }
   ],
   "source": [
    "# *** this is a transform cell ***\n",
    "\n",
    "# normalization\n",
    "\n",
    "min_max_scaler = preprocessing.MinMaxScaler()\n",
    "\n",
    "min_max_scaler.fit(new_data[new_data.columns[:-2]])\n",
    "\n",
    "#print(min_max_scaler.data_max_)\n",
    "\n",
    "new_data[new_data.columns[:-2]] = min_max_scaler.transform(new_data[new_data.columns[:-2]])\n",
    "\n",
    "new_data.describe()"
   ]
  },
  {
   "cell_type": "markdown",
   "id": "d16a5657",
   "metadata": {},
   "source": [
    "# Modeling and evaluation"
   ]
  },
  {
   "cell_type": "code",
   "execution_count": 11,
   "id": "7bd2ee30",
   "metadata": {},
   "outputs": [],
   "source": [
    "from sklearn.model_selection import train_test_split\n",
    "\n",
    "from sklearn import svm\n",
    "\n",
    "from sklearn import metrics"
   ]
  },
  {
   "cell_type": "code",
   "execution_count": 12,
   "id": "9bfedb65",
   "metadata": {},
   "outputs": [
    {
     "name": "stdout",
     "output_type": "stream",
     "text": [
      "(508, 4)\n",
      "(128, 4)\n",
      "(508, 1)\n",
      "(128, 1)\n"
     ]
    }
   ],
   "source": [
    "# split data\n",
    "\n",
    "x_train, x_test, y_train, y_test = train_test_split(new_data.loc[:, new_data.columns != 'donated'], \n",
    "                                                  new_data[['donated']], \n",
    "                                                  test_size= 0.2, \n",
    "                                                  random_state= 1)\n",
    "\n",
    "print(x_train.shape)\n",
    "print(x_test.shape)\n",
    "print(y_train.shape)\n",
    "print(y_test.shape)"
   ]
  },
  {
   "cell_type": "code",
   "execution_count": 12,
   "id": "45008aeb",
   "metadata": {},
   "outputs": [
    {
     "data": {
      "text/plain": [
       "donated\n",
       "0          383\n",
       "1          125\n",
       "dtype: int64"
      ]
     },
     "execution_count": 12,
     "metadata": {},
     "output_type": "execute_result"
    }
   ],
   "source": [
    "y_train.value_counts()"
   ]
  },
  {
   "cell_type": "code",
   "execution_count": 13,
   "id": "dcd86156",
   "metadata": {},
   "outputs": [
    {
     "name": "stderr",
     "output_type": "stream",
     "text": [
      "/home/marwen/anaconda3/envs/ds/lib/python3.9/site-packages/sklearn/utils/validation.py:1143: DataConversionWarning: A column-vector y was passed when a 1d array was expected. Please change the shape of y to (n_samples, ), for example using ravel().\n",
      "  y = column_or_1d(y, warn=True)\n"
     ]
    },
    {
     "data": {
      "text/html": [
       "<style>#sk-container-id-1 {color: black;background-color: white;}#sk-container-id-1 pre{padding: 0;}#sk-container-id-1 div.sk-toggleable {background-color: white;}#sk-container-id-1 label.sk-toggleable__label {cursor: pointer;display: block;width: 100%;margin-bottom: 0;padding: 0.3em;box-sizing: border-box;text-align: center;}#sk-container-id-1 label.sk-toggleable__label-arrow:before {content: \"▸\";float: left;margin-right: 0.25em;color: #696969;}#sk-container-id-1 label.sk-toggleable__label-arrow:hover:before {color: black;}#sk-container-id-1 div.sk-estimator:hover label.sk-toggleable__label-arrow:before {color: black;}#sk-container-id-1 div.sk-toggleable__content {max-height: 0;max-width: 0;overflow: hidden;text-align: left;background-color: #f0f8ff;}#sk-container-id-1 div.sk-toggleable__content pre {margin: 0.2em;color: black;border-radius: 0.25em;background-color: #f0f8ff;}#sk-container-id-1 input.sk-toggleable__control:checked~div.sk-toggleable__content {max-height: 200px;max-width: 100%;overflow: auto;}#sk-container-id-1 input.sk-toggleable__control:checked~label.sk-toggleable__label-arrow:before {content: \"▾\";}#sk-container-id-1 div.sk-estimator input.sk-toggleable__control:checked~label.sk-toggleable__label {background-color: #d4ebff;}#sk-container-id-1 div.sk-label input.sk-toggleable__control:checked~label.sk-toggleable__label {background-color: #d4ebff;}#sk-container-id-1 input.sk-hidden--visually {border: 0;clip: rect(1px 1px 1px 1px);clip: rect(1px, 1px, 1px, 1px);height: 1px;margin: -1px;overflow: hidden;padding: 0;position: absolute;width: 1px;}#sk-container-id-1 div.sk-estimator {font-family: monospace;background-color: #f0f8ff;border: 1px dotted black;border-radius: 0.25em;box-sizing: border-box;margin-bottom: 0.5em;}#sk-container-id-1 div.sk-estimator:hover {background-color: #d4ebff;}#sk-container-id-1 div.sk-parallel-item::after {content: \"\";width: 100%;border-bottom: 1px solid gray;flex-grow: 1;}#sk-container-id-1 div.sk-label:hover label.sk-toggleable__label {background-color: #d4ebff;}#sk-container-id-1 div.sk-serial::before {content: \"\";position: absolute;border-left: 1px solid gray;box-sizing: border-box;top: 0;bottom: 0;left: 50%;z-index: 0;}#sk-container-id-1 div.sk-serial {display: flex;flex-direction: column;align-items: center;background-color: white;padding-right: 0.2em;padding-left: 0.2em;position: relative;}#sk-container-id-1 div.sk-item {position: relative;z-index: 1;}#sk-container-id-1 div.sk-parallel {display: flex;align-items: stretch;justify-content: center;background-color: white;position: relative;}#sk-container-id-1 div.sk-item::before, #sk-container-id-1 div.sk-parallel-item::before {content: \"\";position: absolute;border-left: 1px solid gray;box-sizing: border-box;top: 0;bottom: 0;left: 50%;z-index: -1;}#sk-container-id-1 div.sk-parallel-item {display: flex;flex-direction: column;z-index: 1;position: relative;background-color: white;}#sk-container-id-1 div.sk-parallel-item:first-child::after {align-self: flex-end;width: 50%;}#sk-container-id-1 div.sk-parallel-item:last-child::after {align-self: flex-start;width: 50%;}#sk-container-id-1 div.sk-parallel-item:only-child::after {width: 0;}#sk-container-id-1 div.sk-dashed-wrapped {border: 1px dashed gray;margin: 0 0.4em 0.5em 0.4em;box-sizing: border-box;padding-bottom: 0.4em;background-color: white;}#sk-container-id-1 div.sk-label label {font-family: monospace;font-weight: bold;display: inline-block;line-height: 1.2em;}#sk-container-id-1 div.sk-label-container {text-align: center;}#sk-container-id-1 div.sk-container {/* jupyter's `normalize.less` sets `[hidden] { display: none; }` but bootstrap.min.css set `[hidden] { display: none !important; }` so we also need the `!important` here to be able to override the default hidden behavior on the sphinx rendered scikit-learn.org. See: https://github.com/scikit-learn/scikit-learn/issues/21755 */display: inline-block !important;position: relative;}#sk-container-id-1 div.sk-text-repr-fallback {display: none;}</style><div id=\"sk-container-id-1\" class=\"sk-top-container\"><div class=\"sk-text-repr-fallback\"><pre>SVC(C=1, class_weight=&#x27;balanced&#x27;, kernel=&#x27;linear&#x27;, random_state=1)</pre><b>In a Jupyter environment, please rerun this cell to show the HTML representation or trust the notebook. <br />On GitHub, the HTML representation is unable to render, please try loading this page with nbviewer.org.</b></div><div class=\"sk-container\" hidden><div class=\"sk-item\"><div class=\"sk-estimator sk-toggleable\"><input class=\"sk-toggleable__control sk-hidden--visually\" id=\"sk-estimator-id-1\" type=\"checkbox\" checked><label for=\"sk-estimator-id-1\" class=\"sk-toggleable__label sk-toggleable__label-arrow\">SVC</label><div class=\"sk-toggleable__content\"><pre>SVC(C=1, class_weight=&#x27;balanced&#x27;, kernel=&#x27;linear&#x27;, random_state=1)</pre></div></div></div></div></div>"
      ],
      "text/plain": [
       "SVC(C=1, class_weight='balanced', kernel='linear', random_state=1)"
      ]
     },
     "execution_count": 13,
     "metadata": {},
     "output_type": "execute_result"
    }
   ],
   "source": [
    "# fit a SVM\n",
    "\n",
    "svm_clf = svm.SVC(C= 1, #tradeoff param between margin size and separation correctness\n",
    "              kernel= 'linear',\n",
    "              class_weight= 'balanced', #assign weights to classes based on the data balance\n",
    "              random_state= 1)\n",
    "\n",
    "svm_clf.fit(x_train, y_train)"
   ]
  },
  {
   "cell_type": "code",
   "execution_count": 14,
   "id": "10ea5ff5",
   "metadata": {},
   "outputs": [],
   "source": [
    "# predict\n",
    "\n",
    "y_pred = svm_clf.predict(x_test)"
   ]
  },
  {
   "cell_type": "code",
   "execution_count": 15,
   "id": "c30f47f2",
   "metadata": {
    "scrolled": true
   },
   "outputs": [
    {
     "data": {
      "text/plain": [
       "array(['1', '0', '0', '1', '1', '0', '0', '1', '1', '0', '1', '0', '0',\n",
       "       '1', '0', '0', '0', '1', '1', '1', '0', '1', '1', '1', '1', '1',\n",
       "       '0', '0', '0', '0', '0', '1', '1', '1', '1', '0', '1', '1', '0',\n",
       "       '0', '1', '1', '1', '1', '0', '1', '1', '1', '0', '1', '0', '1',\n",
       "       '0', '1', '1', '1', '0', '0', '0', '1', '1', '0', '1', '0', '0',\n",
       "       '0', '0', '1', '0', '0', '1', '1', '1', '1', '1', '0', '0', '0',\n",
       "       '0', '0', '0', '0', '0', '1', '1', '0', '1', '0', '0', '1', '0',\n",
       "       '0', '0', '1', '1', '1', '0', '0', '0', '0', '0', '1', '1', '0',\n",
       "       '0', '0', '0', '0', '0', '0', '1', '1', '0', '1', '0', '1', '0',\n",
       "       '0', '0', '0', '0', '1', '1', '1', '0', '0', '0', '0'],\n",
       "      dtype=object)"
      ]
     },
     "execution_count": 15,
     "metadata": {},
     "output_type": "execute_result"
    }
   ],
   "source": [
    "y_pred"
   ]
  },
  {
   "cell_type": "code",
   "execution_count": 15,
   "id": "ef248ead",
   "metadata": {},
   "outputs": [
    {
     "name": "stdout",
     "output_type": "stream",
     "text": [
      "Confusion Matrix: [[62 42]\n",
      " [ 7 17]]\n",
      "Accuracy: 0.6171875\n",
      "Precision: 0.288135593220339\n",
      "Recall: 0.7083333333333334\n"
     ]
    }
   ],
   "source": [
    "print('Confusion Matrix:', metrics.confusion_matrix(y_test, y_pred))\n",
    "                                                                        \n",
    "print('Accuracy:', metrics.accuracy_score(y_test, y_pred))\n",
    "\n",
    "print('Precision:', metrics.precision_score(y_test, y_pred, pos_label= '1'))\n",
    "\n",
    "print('Recall:', metrics.recall_score(y_test, y_pred, pos_label= '1'))"
   ]
  },
  {
   "cell_type": "markdown",
   "id": "83f9cdc5",
   "metadata": {},
   "source": [
    "* Can we say that in this problem, recall is more important than precision?: Recommending more clients with non-donors is better than fewer but solid recommendations. This may be true if phone calls time is not crucial and potential donors number needs to be maximized."
   ]
  },
  {
   "cell_type": "markdown",
   "id": "70703024",
   "metadata": {},
   "source": [
    "# Serving"
   ]
  },
  {
   "cell_type": "code",
   "execution_count": 1,
   "id": "d1010cbb",
   "metadata": {},
   "outputs": [],
   "source": [
    "# create a data input class with a transform method for new data input\n",
    "\n",
    "class Data_input:\n",
    "    \n",
    "    def __init__(self, months_since_first, months_since_last, number_of_donations, \n",
    "                 total_blood_donated):\n",
    "        \n",
    "        self.months_since_first = months_since_first\n",
    "        self.months_since_last = months_since_last\n",
    "        self.number_of_donations = number_of_donations\n",
    "        self.total_blood_donated = total_blood_donated\n",
    "    \n",
    "    def print_data(self):\n",
    "        \n",
    "        print(f'months_since_first: {self.months_since_first}', \n",
    "              f'months_since_last: {self.months_since_last}',\n",
    "              f'number_of_donations: {self.number_of_donations}',\n",
    "              f'total_blood_donated: {self.total_blood_donated}',\n",
    "              sep= '\\n')\n",
    "        \n",
    "    def transform(self, min_max_scaler):\n",
    "        \n",
    "        # scale features\n",
    "\n",
    "        new_data_input = min_max_scaler.transform([[self.months_since_first,\n",
    "                                                   self.months_since_last,\n",
    "                                                   self.number_of_donations]]).tolist()\n",
    "        # convert blood to liter\n",
    "        \n",
    "        new_data_input[0].append(self.total_blood_donated / 1000)\n",
    "        \n",
    "        \n",
    "        return(new_data_input)"
   ]
  },
  {
   "cell_type": "code",
   "execution_count": 22,
   "id": "549d555e",
   "metadata": {},
   "outputs": [
    {
     "data": {
      "text/plain": [
       "months_since_first       34\n",
       "months_since_last         4\n",
       "number_of_donations       8\n",
       "total_blood_donated    2000\n",
       "donated                   1\n",
       "Name: 100, dtype: object"
      ]
     },
     "execution_count": 22,
     "metadata": {},
     "output_type": "execute_result"
    }
   ],
   "source": [
    "data.loc[100,:]"
   ]
  },
  {
   "cell_type": "code",
   "execution_count": 23,
   "id": "fcc2dccb",
   "metadata": {},
   "outputs": [
    {
     "data": {
      "text/plain": [
       "months_since_first     0.384615\n",
       "months_since_last      0.095238\n",
       "number_of_donations    0.466667\n",
       "total_blood_donated         2.0\n",
       "donated                       1\n",
       "Name: 100, dtype: object"
      ]
     },
     "execution_count": 23,
     "metadata": {},
     "output_type": "execute_result"
    }
   ],
   "source": [
    "new_data.loc[100,:]"
   ]
  },
  {
   "cell_type": "code",
   "execution_count": 5,
   "id": "b5c921c5",
   "metadata": {},
   "outputs": [
    {
     "name": "stdout",
     "output_type": "stream",
     "text": [
      "months_since_first: True\n",
      "months_since_last: 4\n",
      "number_of_donations: 8\n",
      "total_blood_donated: 2000\n"
     ]
    }
   ],
   "source": [
    "x = Data_input(True, 4, 8, 2000)\n",
    "\n",
    "x.print_data()"
   ]
  },
  {
   "cell_type": "code",
   "execution_count": 26,
   "id": "6fb7429a",
   "metadata": {
    "scrolled": true
   },
   "outputs": [
    {
     "name": "stderr",
     "output_type": "stream",
     "text": [
      "/home/marwen/anaconda3/envs/ds/lib/python3.9/site-packages/sklearn/base.py:420: UserWarning: X does not have valid feature names, but MinMaxScaler was fitted with feature names\n",
      "  warnings.warn(\n"
     ]
    },
    {
     "data": {
      "text/plain": [
       "[[0.38461538461538464, 0.09523809523809523, 0.4666666666666667, 2.0]]"
      ]
     },
     "execution_count": 26,
     "metadata": {},
     "output_type": "execute_result"
    }
   ],
   "source": [
    "x.transform(min_max_scaler)"
   ]
  },
  {
   "cell_type": "code",
   "execution_count": 30,
   "id": "6085485e",
   "metadata": {
    "scrolled": true
   },
   "outputs": [
    {
     "name": "stderr",
     "output_type": "stream",
     "text": [
      "/home/marwen/anaconda3/envs/ds/lib/python3.9/site-packages/sklearn/base.py:420: UserWarning: X does not have valid feature names, but MinMaxScaler was fitted with feature names\n",
      "  warnings.warn(\n",
      "/home/marwen/anaconda3/envs/ds/lib/python3.9/site-packages/sklearn/base.py:420: UserWarning: X does not have valid feature names, but SVC was fitted with feature names\n",
      "  warnings.warn(\n"
     ]
    },
    {
     "data": {
      "text/plain": [
       "'1'"
      ]
     },
     "execution_count": 30,
     "metadata": {},
     "output_type": "execute_result"
    }
   ],
   "source": [
    "svm_clf.predict(x.transform(min_max_scaler))[0]"
   ]
  },
  {
   "cell_type": "markdown",
   "id": "75c59985",
   "metadata": {},
   "source": [
    "# Saving"
   ]
  },
  {
   "cell_type": "code",
   "execution_count": null,
   "id": "30730b2b",
   "metadata": {},
   "outputs": [],
   "source": [
    "import pickle"
   ]
  },
  {
   "cell_type": "code",
   "execution_count": 17,
   "id": "6da717ae",
   "metadata": {},
   "outputs": [],
   "source": [
    "# save data scaler\n",
    "\n",
    "with open('scaler.pkl', 'wb') as f:\n",
    "    \n",
    "    pickle.dump(min_max_scaler, f)\n",
    "    f.close()"
   ]
  },
  {
   "cell_type": "code",
   "execution_count": 18,
   "id": "5f1f1ca4",
   "metadata": {},
   "outputs": [],
   "source": [
    "# save model\n",
    "\n",
    "with open('model.pkl', 'wb') as f:\n",
    "    \n",
    "    pickle.dump(svm_clf, f)\n",
    "    f.close()"
   ]
  }
 ],
 "metadata": {
  "kernelspec": {
   "display_name": "Python [conda env:ds]",
   "language": "python",
   "name": "ds"
  },
  "language_info": {
   "codemirror_mode": {
    "name": "ipython",
    "version": 3
   },
   "file_extension": ".py",
   "mimetype": "text/x-python",
   "name": "python",
   "nbconvert_exporter": "python",
   "pygments_lexer": "ipython3",
   "version": "3.9.16"
  }
 },
 "nbformat": 4,
 "nbformat_minor": 5
}
